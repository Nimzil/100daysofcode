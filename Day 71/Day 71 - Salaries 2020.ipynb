{
 "cells": [
  {
   "cell_type": "code",
   "execution_count": 1,
   "metadata": {},
   "outputs": [],
   "source": [
    "import numpy as np\n",
    "import pandas as pd"
   ]
  },
  {
   "cell_type": "code",
   "execution_count": 53,
   "metadata": {},
   "outputs": [],
   "source": [
    "cols = [\"Degree\", 'Grad', \"Starting Salary\", \"Mid Career Salary\"]\n",
    "df = pd.read_csv('salaries_2020.csv', names=cols, index_col = 0)"
   ]
  },
  {
   "cell_type": "code",
   "execution_count": 54,
   "metadata": {},
   "outputs": [
    {
     "data": {
      "text/html": [
       "<div>\n",
       "<style scoped>\n",
       "    .dataframe tbody tr th:only-of-type {\n",
       "        vertical-align: middle;\n",
       "    }\n",
       "\n",
       "    .dataframe tbody tr th {\n",
       "        vertical-align: top;\n",
       "    }\n",
       "\n",
       "    .dataframe thead th {\n",
       "        text-align: right;\n",
       "    }\n",
       "</style>\n",
       "<table border=\"1\" class=\"dataframe\">\n",
       "  <thead>\n",
       "    <tr style=\"text-align: right;\">\n",
       "      <th></th>\n",
       "      <th>Degree</th>\n",
       "      <th>Grad</th>\n",
       "      <th>Starting Salary</th>\n",
       "      <th>Mid Career Salary</th>\n",
       "    </tr>\n",
       "  </thead>\n",
       "  <tbody>\n",
       "    <tr>\n",
       "      <th>1</th>\n",
       "      <td>Petroleum Engineering</td>\n",
       "      <td>Bachelors</td>\n",
       "      <td>$92,300</td>\n",
       "      <td>$182,000</td>\n",
       "    </tr>\n",
       "    <tr>\n",
       "      <th>2</th>\n",
       "      <td>Electrical Engineering &amp; Computer Science (EECS)</td>\n",
       "      <td>Bachelors</td>\n",
       "      <td>$101,200</td>\n",
       "      <td>$152,300</td>\n",
       "    </tr>\n",
       "    <tr>\n",
       "      <th>3</th>\n",
       "      <td>Applied Economics and Management</td>\n",
       "      <td>Bachelors</td>\n",
       "      <td>$60,900</td>\n",
       "      <td>$139,600</td>\n",
       "    </tr>\n",
       "    <tr>\n",
       "      <th>3</th>\n",
       "      <td>Operations Research</td>\n",
       "      <td>Bachelors</td>\n",
       "      <td>$78,400</td>\n",
       "      <td>$139,600</td>\n",
       "    </tr>\n",
       "    <tr>\n",
       "      <th>5</th>\n",
       "      <td>Public Accounting</td>\n",
       "      <td>Bachelors</td>\n",
       "      <td>$60,000</td>\n",
       "      <td>$138,800</td>\n",
       "    </tr>\n",
       "  </tbody>\n",
       "</table>\n",
       "</div>"
      ],
      "text/plain": [
       "                                             Degree       Grad  \\\n",
       "1                             Petroleum Engineering  Bachelors   \n",
       "2  Electrical Engineering & Computer Science (EECS)  Bachelors   \n",
       "3                  Applied Economics and Management  Bachelors   \n",
       "3                               Operations Research  Bachelors   \n",
       "5                                 Public Accounting  Bachelors   \n",
       "\n",
       "  Starting Salary Mid Career Salary  \n",
       "1         $92,300          $182,000  \n",
       "2        $101,200          $152,300  \n",
       "3         $60,900          $139,600  \n",
       "3         $78,400          $139,600  \n",
       "5         $60,000          $138,800  "
      ]
     },
     "execution_count": 54,
     "metadata": {},
     "output_type": "execute_result"
    }
   ],
   "source": [
    "df.head()"
   ]
  },
  {
   "cell_type": "code",
   "execution_count": 55,
   "metadata": {},
   "outputs": [
    {
     "data": {
      "text/plain": [
       "Degree               834\n",
       "Grad                 834\n",
       "Starting Salary      834\n",
       "Mid Career Salary    834\n",
       "dtype: int64"
      ]
     },
     "execution_count": 55,
     "metadata": {},
     "output_type": "execute_result"
    }
   ],
   "source": [
    "df.count()"
   ]
  },
  {
   "cell_type": "code",
   "execution_count": 56,
   "metadata": {},
   "outputs": [
    {
     "data": {
      "text/plain": [
       "(834, 4)"
      ]
     },
     "execution_count": 56,
     "metadata": {},
     "output_type": "execute_result"
    }
   ],
   "source": [
    "df.shape"
   ]
  },
  {
   "cell_type": "code",
   "execution_count": 57,
   "metadata": {},
   "outputs": [
    {
     "data": {
      "text/plain": [
       "(834, 4)"
      ]
     },
     "execution_count": 57,
     "metadata": {},
     "output_type": "execute_result"
    }
   ],
   "source": [
    "df.dropna()\n",
    "df.shape"
   ]
  },
  {
   "cell_type": "code",
   "execution_count": 58,
   "metadata": {},
   "outputs": [
    {
     "data": {
      "text/plain": [
       "count         834\n",
       "unique        318\n",
       "top       $43,900\n",
       "freq            9\n",
       "Name: Starting Salary, dtype: object"
      ]
     },
     "execution_count": 58,
     "metadata": {},
     "output_type": "execute_result"
    }
   ],
   "source": [
    "df['Starting Salary'].describe()"
   ]
  },
  {
   "cell_type": "code",
   "execution_count": 59,
   "metadata": {},
   "outputs": [],
   "source": [
    "df[\"Starting Salary\"].replace(',','', regex=True, inplace=True)\n",
    "df[\"Starting Salary\"].replace('$','', regex=True, inplace=True)"
   ]
  },
  {
   "cell_type": "code",
   "execution_count": 60,
   "metadata": {},
   "outputs": [],
   "source": [
    "df[\"Mid Career Salary\"].replace(',','', regex=True, inplace=True)\n",
    "df[\"Mid Career Salary\"].replace('$','', regex=True, inplace=True)"
   ]
  },
  {
   "cell_type": "code",
   "execution_count": 61,
   "metadata": {},
   "outputs": [],
   "source": [
    "df = df.apply(lambda x: x.str.replace('$', ''))  # Converting all salaries to float. "
   ]
  },
  {
   "cell_type": "code",
   "execution_count": 62,
   "metadata": {},
   "outputs": [
    {
     "data": {
      "text/plain": [
       "1      182000.0\n",
       "2      152300.0\n",
       "3      139600.0\n",
       "3      139600.0\n",
       "5      138800.0\n",
       "         ...   \n",
       "830     43300.0\n",
       "831     42500.0\n",
       "832     42300.0\n",
       "833     42200.0\n",
       "834     38400.0\n",
       "Name: Mid Career Salary, Length: 834, dtype: float64"
      ]
     },
     "execution_count": 62,
     "metadata": {},
     "output_type": "execute_result"
    }
   ],
   "source": [
    "df['Mid Career Salary'].astype('float64')"
   ]
  },
  {
   "cell_type": "code",
   "execution_count": 66,
   "metadata": {},
   "outputs": [],
   "source": [
    "df['Starting Salary'] = df['Starting Salary'].astype('float64')\n",
    "df['Mid Career Salary'] = df['Mid Career Salary'].astype('float64')"
   ]
  },
  {
   "cell_type": "code",
   "execution_count": 67,
   "metadata": {},
   "outputs": [
    {
     "data": {
      "text/html": [
       "<div>\n",
       "<style scoped>\n",
       "    .dataframe tbody tr th:only-of-type {\n",
       "        vertical-align: middle;\n",
       "    }\n",
       "\n",
       "    .dataframe tbody tr th {\n",
       "        vertical-align: top;\n",
       "    }\n",
       "\n",
       "    .dataframe thead th {\n",
       "        text-align: right;\n",
       "    }\n",
       "</style>\n",
       "<table border=\"1\" class=\"dataframe\">\n",
       "  <thead>\n",
       "    <tr style=\"text-align: right;\">\n",
       "      <th></th>\n",
       "      <th>Degree</th>\n",
       "      <th>Grad</th>\n",
       "      <th>Starting Salary</th>\n",
       "      <th>Mid Career Salary</th>\n",
       "    </tr>\n",
       "  </thead>\n",
       "  <tbody>\n",
       "    <tr>\n",
       "      <th>1</th>\n",
       "      <td>Petroleum Engineering</td>\n",
       "      <td>Bachelors</td>\n",
       "      <td>92300.0</td>\n",
       "      <td>182000.0</td>\n",
       "    </tr>\n",
       "    <tr>\n",
       "      <th>2</th>\n",
       "      <td>Electrical Engineering &amp; Computer Science (EECS)</td>\n",
       "      <td>Bachelors</td>\n",
       "      <td>101200.0</td>\n",
       "      <td>152300.0</td>\n",
       "    </tr>\n",
       "    <tr>\n",
       "      <th>3</th>\n",
       "      <td>Applied Economics and Management</td>\n",
       "      <td>Bachelors</td>\n",
       "      <td>60900.0</td>\n",
       "      <td>139600.0</td>\n",
       "    </tr>\n",
       "    <tr>\n",
       "      <th>3</th>\n",
       "      <td>Operations Research</td>\n",
       "      <td>Bachelors</td>\n",
       "      <td>78400.0</td>\n",
       "      <td>139600.0</td>\n",
       "    </tr>\n",
       "    <tr>\n",
       "      <th>5</th>\n",
       "      <td>Public Accounting</td>\n",
       "      <td>Bachelors</td>\n",
       "      <td>60000.0</td>\n",
       "      <td>138800.0</td>\n",
       "    </tr>\n",
       "  </tbody>\n",
       "</table>\n",
       "</div>"
      ],
      "text/plain": [
       "                                             Degree       Grad  \\\n",
       "1                             Petroleum Engineering  Bachelors   \n",
       "2  Electrical Engineering & Computer Science (EECS)  Bachelors   \n",
       "3                  Applied Economics and Management  Bachelors   \n",
       "3                               Operations Research  Bachelors   \n",
       "5                                 Public Accounting  Bachelors   \n",
       "\n",
       "   Starting Salary  Mid Career Salary  \n",
       "1          92300.0           182000.0  \n",
       "2         101200.0           152300.0  \n",
       "3          60900.0           139600.0  \n",
       "3          78400.0           139600.0  \n",
       "5          60000.0           138800.0  "
      ]
     },
     "execution_count": 67,
     "metadata": {},
     "output_type": "execute_result"
    }
   ],
   "source": [
    "df.head()"
   ]
  },
  {
   "cell_type": "code",
   "execution_count": 69,
   "metadata": {},
   "outputs": [
    {
     "data": {
      "text/html": [
       "<div>\n",
       "<style scoped>\n",
       "    .dataframe tbody tr th:only-of-type {\n",
       "        vertical-align: middle;\n",
       "    }\n",
       "\n",
       "    .dataframe tbody tr th {\n",
       "        vertical-align: top;\n",
       "    }\n",
       "\n",
       "    .dataframe thead th {\n",
       "        text-align: right;\n",
       "    }\n",
       "</style>\n",
       "<table border=\"1\" class=\"dataframe\">\n",
       "  <thead>\n",
       "    <tr style=\"text-align: right;\">\n",
       "      <th></th>\n",
       "      <th>Starting Salary</th>\n",
       "      <th>Mid Career Salary</th>\n",
       "    </tr>\n",
       "  </thead>\n",
       "  <tbody>\n",
       "    <tr>\n",
       "      <th>count</th>\n",
       "      <td>834.000000</td>\n",
       "      <td>834.000000</td>\n",
       "    </tr>\n",
       "    <tr>\n",
       "      <th>mean</th>\n",
       "      <td>49843.045564</td>\n",
       "      <td>82867.505995</td>\n",
       "    </tr>\n",
       "    <tr>\n",
       "      <th>std</th>\n",
       "      <td>9727.282745</td>\n",
       "      <td>19870.064395</td>\n",
       "    </tr>\n",
       "    <tr>\n",
       "      <th>min</th>\n",
       "      <td>31000.000000</td>\n",
       "      <td>38400.000000</td>\n",
       "    </tr>\n",
       "    <tr>\n",
       "      <th>25%</th>\n",
       "      <td>42800.000000</td>\n",
       "      <td>68325.000000</td>\n",
       "    </tr>\n",
       "    <tr>\n",
       "      <th>50%</th>\n",
       "      <td>47600.000000</td>\n",
       "      <td>80300.000000</td>\n",
       "    </tr>\n",
       "    <tr>\n",
       "      <th>75%</th>\n",
       "      <td>55475.000000</td>\n",
       "      <td>95175.000000</td>\n",
       "    </tr>\n",
       "    <tr>\n",
       "      <th>max</th>\n",
       "      <td>101200.000000</td>\n",
       "      <td>182000.000000</td>\n",
       "    </tr>\n",
       "  </tbody>\n",
       "</table>\n",
       "</div>"
      ],
      "text/plain": [
       "       Starting Salary  Mid Career Salary\n",
       "count       834.000000         834.000000\n",
       "mean      49843.045564       82867.505995\n",
       "std        9727.282745       19870.064395\n",
       "min       31000.000000       38400.000000\n",
       "25%       42800.000000       68325.000000\n",
       "50%       47600.000000       80300.000000\n",
       "75%       55475.000000       95175.000000\n",
       "max      101200.000000      182000.000000"
      ]
     },
     "execution_count": 69,
     "metadata": {},
     "output_type": "execute_result"
    }
   ],
   "source": [
    "df.describe()"
   ]
  },
  {
   "cell_type": "code",
   "execution_count": 81,
   "metadata": {},
   "outputs": [],
   "source": [
    "df = df.reset_index()"
   ]
  },
  {
   "cell_type": "code",
   "execution_count": 82,
   "metadata": {},
   "outputs": [
    {
     "data": {
      "text/plain": [
       "101200.0"
      ]
     },
     "execution_count": 82,
     "metadata": {},
     "output_type": "execute_result"
    }
   ],
   "source": [
    "# Identify the highest starting Salary\n",
    "df['Starting Salary'].max()"
   ]
  },
  {
   "cell_type": "code",
   "execution_count": 83,
   "metadata": {},
   "outputs": [
    {
     "data": {
      "text/plain": [
       "index                                                               2\n",
       "Degree               Electrical Engineering & Computer Science (EECS)\n",
       "Grad                                                        Bachelors\n",
       "Starting Salary                                                101200\n",
       "Mid Career Salary                                              152300\n",
       "Name: 1, dtype: object"
      ]
     },
     "execution_count": 83,
     "metadata": {},
     "output_type": "execute_result"
    }
   ],
   "source": [
    "df.loc[df[\"Starting Salary\"].idxmax()]"
   ]
  },
  {
   "cell_type": "code",
   "execution_count": 84,
   "metadata": {},
   "outputs": [
    {
     "data": {
      "text/plain": [
       "31000.0"
      ]
     },
     "execution_count": 84,
     "metadata": {},
     "output_type": "execute_result"
    }
   ],
   "source": [
    "# IDentify the lowest Starting Salary\n",
    "df['Starting Salary'].min()"
   ]
  },
  {
   "cell_type": "code",
   "execution_count": 85,
   "metadata": {},
   "outputs": [
    {
     "data": {
      "text/plain": [
       "index                                     707\n",
       "Degree               Developmental Psychology\n",
       "Grad                                Bachelors\n",
       "Starting Salary                         31000\n",
       "Mid Career Salary                       62000\n",
       "Name: 707, dtype: object"
      ]
     },
     "execution_count": 85,
     "metadata": {},
     "output_type": "execute_result"
    }
   ],
   "source": [
    "df.loc[df[\"Starting Salary\"].idxmin()]"
   ]
  },
  {
   "cell_type": "code",
   "execution_count": 86,
   "metadata": {},
   "outputs": [],
   "source": [
    "df[\"Spread\"] = df[\"Mid Career Salary\"] - df[\"Starting Salary\"]"
   ]
  },
  {
   "cell_type": "code",
   "execution_count": 88,
   "metadata": {},
   "outputs": [
    {
     "data": {
      "text/html": [
       "<div>\n",
       "<style scoped>\n",
       "    .dataframe tbody tr th:only-of-type {\n",
       "        vertical-align: middle;\n",
       "    }\n",
       "\n",
       "    .dataframe tbody tr th {\n",
       "        vertical-align: top;\n",
       "    }\n",
       "\n",
       "    .dataframe thead th {\n",
       "        text-align: right;\n",
       "    }\n",
       "</style>\n",
       "<table border=\"1\" class=\"dataframe\">\n",
       "  <thead>\n",
       "    <tr style=\"text-align: right;\">\n",
       "      <th></th>\n",
       "      <th>index</th>\n",
       "      <th>Degree</th>\n",
       "      <th>Grad</th>\n",
       "      <th>Starting Salary</th>\n",
       "      <th>Mid Career Salary</th>\n",
       "      <th>Spread</th>\n",
       "    </tr>\n",
       "  </thead>\n",
       "  <tbody>\n",
       "    <tr>\n",
       "      <th>0</th>\n",
       "      <td>1</td>\n",
       "      <td>Petroleum Engineering</td>\n",
       "      <td>Bachelors</td>\n",
       "      <td>92300.0</td>\n",
       "      <td>182000.0</td>\n",
       "      <td>89700.0</td>\n",
       "    </tr>\n",
       "    <tr>\n",
       "      <th>12</th>\n",
       "      <td>13</td>\n",
       "      <td>Aerospace Studies</td>\n",
       "      <td>Bachelors</td>\n",
       "      <td>50300.0</td>\n",
       "      <td>130300.0</td>\n",
       "      <td>80000.0</td>\n",
       "    </tr>\n",
       "    <tr>\n",
       "      <th>4</th>\n",
       "      <td>5</td>\n",
       "      <td>Public Accounting</td>\n",
       "      <td>Bachelors</td>\n",
       "      <td>60000.0</td>\n",
       "      <td>138800.0</td>\n",
       "      <td>78800.0</td>\n",
       "    </tr>\n",
       "    <tr>\n",
       "      <th>2</th>\n",
       "      <td>3</td>\n",
       "      <td>Applied Economics and Management</td>\n",
       "      <td>Bachelors</td>\n",
       "      <td>60900.0</td>\n",
       "      <td>139600.0</td>\n",
       "      <td>78700.0</td>\n",
       "    </tr>\n",
       "    <tr>\n",
       "      <th>27</th>\n",
       "      <td>28</td>\n",
       "      <td>Building Science</td>\n",
       "      <td>Bachelors</td>\n",
       "      <td>51100.0</td>\n",
       "      <td>122500.0</td>\n",
       "      <td>71400.0</td>\n",
       "    </tr>\n",
       "  </tbody>\n",
       "</table>\n",
       "</div>"
      ],
      "text/plain": [
       "    index                            Degree       Grad  Starting Salary  \\\n",
       "0       1             Petroleum Engineering  Bachelors          92300.0   \n",
       "12     13                 Aerospace Studies  Bachelors          50300.0   \n",
       "4       5                 Public Accounting  Bachelors          60000.0   \n",
       "2       3  Applied Economics and Management  Bachelors          60900.0   \n",
       "27     28                  Building Science  Bachelors          51100.0   \n",
       "\n",
       "    Mid Career Salary   Spread  \n",
       "0            182000.0  89700.0  \n",
       "12           130300.0  80000.0  \n",
       "4            138800.0  78800.0  \n",
       "2            139600.0  78700.0  \n",
       "27           122500.0  71400.0  "
      ]
     },
     "execution_count": 88,
     "metadata": {},
     "output_type": "execute_result"
    }
   ],
   "source": [
    "df.sort_values(\"Spread\", ascending=False).head()"
   ]
  },
  {
   "cell_type": "code",
   "execution_count": 89,
   "metadata": {},
   "outputs": [
    {
     "data": {
      "text/html": [
       "<div>\n",
       "<style scoped>\n",
       "    .dataframe tbody tr th:only-of-type {\n",
       "        vertical-align: middle;\n",
       "    }\n",
       "\n",
       "    .dataframe tbody tr th {\n",
       "        vertical-align: top;\n",
       "    }\n",
       "\n",
       "    .dataframe thead th {\n",
       "        text-align: right;\n",
       "    }\n",
       "</style>\n",
       "<table border=\"1\" class=\"dataframe\">\n",
       "  <thead>\n",
       "    <tr style=\"text-align: right;\">\n",
       "      <th></th>\n",
       "      <th>index</th>\n",
       "      <th>Degree</th>\n",
       "      <th>Grad</th>\n",
       "      <th>Starting Salary</th>\n",
       "      <th>Mid Career Salary</th>\n",
       "      <th>Spread</th>\n",
       "    </tr>\n",
       "  </thead>\n",
       "  <tbody>\n",
       "    <tr>\n",
       "      <th>833</th>\n",
       "      <td>834</td>\n",
       "      <td>Metalsmithing</td>\n",
       "      <td>Bachelors</td>\n",
       "      <td>38300.0</td>\n",
       "      <td>38400.0</td>\n",
       "      <td>100.0</td>\n",
       "    </tr>\n",
       "    <tr>\n",
       "      <th>832</th>\n",
       "      <td>833</td>\n",
       "      <td>Addictions Counseling</td>\n",
       "      <td>Bachelors</td>\n",
       "      <td>38800.0</td>\n",
       "      <td>42200.0</td>\n",
       "      <td>3400.0</td>\n",
       "    </tr>\n",
       "    <tr>\n",
       "      <th>721</th>\n",
       "      <td>720</td>\n",
       "      <td>Psychiatry</td>\n",
       "      <td>Bachelors</td>\n",
       "      <td>54700.0</td>\n",
       "      <td>61200.0</td>\n",
       "      <td>6500.0</td>\n",
       "    </tr>\n",
       "    <tr>\n",
       "      <th>818</th>\n",
       "      <td>819</td>\n",
       "      <td>Human Services Management</td>\n",
       "      <td>Bachelors</td>\n",
       "      <td>43500.0</td>\n",
       "      <td>50500.0</td>\n",
       "      <td>7000.0</td>\n",
       "    </tr>\n",
       "    <tr>\n",
       "      <th>831</th>\n",
       "      <td>832</td>\n",
       "      <td>Medical Assisting</td>\n",
       "      <td>Bachelors</td>\n",
       "      <td>35100.0</td>\n",
       "      <td>42300.0</td>\n",
       "      <td>7200.0</td>\n",
       "    </tr>\n",
       "  </tbody>\n",
       "</table>\n",
       "</div>"
      ],
      "text/plain": [
       "     index                     Degree       Grad  Starting Salary  \\\n",
       "833    834              Metalsmithing  Bachelors          38300.0   \n",
       "832    833      Addictions Counseling  Bachelors          38800.0   \n",
       "721    720                 Psychiatry  Bachelors          54700.0   \n",
       "818    819  Human Services Management  Bachelors          43500.0   \n",
       "831    832          Medical Assisting  Bachelors          35100.0   \n",
       "\n",
       "     Mid Career Salary  Spread  \n",
       "833            38400.0   100.0  \n",
       "832            42200.0  3400.0  \n",
       "721            61200.0  6500.0  \n",
       "818            50500.0  7000.0  \n",
       "831            42300.0  7200.0  "
      ]
     },
     "execution_count": 89,
     "metadata": {},
     "output_type": "execute_result"
    }
   ],
   "source": [
    "df.sort_values(\"Spread\", ascending=True).head()"
   ]
  },
  {
   "cell_type": "code",
   "execution_count": null,
   "metadata": {},
   "outputs": [],
   "source": []
  }
 ],
 "metadata": {
  "kernelspec": {
   "display_name": "Python 3",
   "language": "python",
   "name": "python3"
  },
  "language_info": {
   "codemirror_mode": {
    "name": "ipython",
    "version": 3
   },
   "file_extension": ".py",
   "mimetype": "text/x-python",
   "name": "python",
   "nbconvert_exporter": "python",
   "pygments_lexer": "ipython3",
   "version": "3.8.3"
  }
 },
 "nbformat": 4,
 "nbformat_minor": 4
}
